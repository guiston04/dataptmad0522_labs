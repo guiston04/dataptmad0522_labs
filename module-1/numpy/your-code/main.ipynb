{
 "cells": [
  {
   "cell_type": "markdown",
   "metadata": {},
   "source": [
    "# Introduction to NumPy\n",
    "\n",
    "\n",
    "#### 1. Import NumPy under the name np."
   ]
  },
  {
   "cell_type": "code",
   "execution_count": 5,
   "metadata": {},
   "outputs": [],
   "source": [
    "# your code here\n",
    "\n",
    "import numpy as np"
   ]
  },
  {
   "cell_type": "markdown",
   "metadata": {},
   "source": [
    "#### 2. Print your NumPy version."
   ]
  },
  {
   "cell_type": "code",
   "execution_count": 6,
   "metadata": {},
   "outputs": [
    {
     "name": "stdout",
     "output_type": "stream",
     "text": [
      "1.22.3\n"
     ]
    }
   ],
   "source": [
    "# your code here\n",
    "print(np.__version__)"
   ]
  },
  {
   "cell_type": "markdown",
   "metadata": {},
   "source": [
    "#### 3. Generate a 2x3x5 3-dimensional array with random values. Assign the array to variable *a*.\n",
    "**Challenge**: there are at least three easy ways that use numpy to generate random arrays. How many ways can you find?"
   ]
  },
  {
   "cell_type": "code",
   "execution_count": 14,
   "metadata": {},
   "outputs": [
    {
     "data": {
      "text/plain": [
       "array([[[0.05559613, 0.28912903, 0.50921051, 0.73702421, 0.75019975],\n",
       "        [0.44841314, 0.00547249, 0.65709576, 0.4536762 , 0.48085445],\n",
       "        [0.45235092, 0.80204296, 0.59481122, 0.76451371, 0.6363687 ]],\n",
       "\n",
       "       [[0.20975161, 0.75167807, 0.90586513, 0.0627187 , 0.5168815 ],\n",
       "        [0.57808126, 0.34846785, 0.83239973, 0.27504084, 0.74167784],\n",
       "        [0.14659929, 0.75105199, 0.28983518, 0.67075598, 0.25454182]]])"
      ]
     },
     "execution_count": 14,
     "metadata": {},
     "output_type": "execute_result"
    }
   ],
   "source": [
    "# Method 1\n",
    "\n",
    "a = np.random.rand(2,3,5)\n",
    "a"
   ]
  },
  {
   "cell_type": "code",
   "execution_count": 39,
   "metadata": {},
   "outputs": [
    {
     "data": {
      "text/plain": [
       "array([[[61, 71, 24, 68,  1],\n",
       "        [ 8, 49, 52, 97, 98],\n",
       "        [92, 29, 71,  0,  6]],\n",
       "\n",
       "       [[14, 59, 22, 58, 13],\n",
       "        [56, 88, 11, 46,  0],\n",
       "        [54, 42, 39, 36, 69]]])"
      ]
     },
     "execution_count": 39,
     "metadata": {},
     "output_type": "execute_result"
    }
   ],
   "source": [
    "# Method 2\n",
    "\n",
    "a = np.random.randint(100,size=(2,3,5))\n",
    "a"
   ]
  },
  {
   "cell_type": "code",
   "execution_count": 16,
   "metadata": {},
   "outputs": [
    {
     "data": {
      "text/plain": [
       "array([[[ 7.93638130e-01, -1.21847727e+00, -7.09716295e-01,\n",
       "          2.15391599e+00, -3.22377003e-01],\n",
       "        [-1.64014965e+00, -4.54246613e-02,  1.60315541e-03,\n",
       "         -1.35768268e+00,  9.04700349e-01],\n",
       "        [-4.96217261e-02,  3.38699189e-01, -2.18856052e+00,\n",
       "          8.34279481e-01,  1.21436141e+00]],\n",
       "\n",
       "       [[ 7.21502247e-01,  1.32902121e+00, -5.26095204e-01,\n",
       "          6.04811804e-01,  6.68138540e-01],\n",
       "        [-2.44720393e-01, -3.75844461e-01,  7.52034706e-02,\n",
       "          6.04445232e-01, -5.94647086e-01],\n",
       "        [-6.01295109e-01, -5.11084700e-01, -1.31096526e+00,\n",
       "         -6.37097248e-01, -2.07387970e-01]]])"
      ]
     },
     "execution_count": 16,
     "metadata": {},
     "output_type": "execute_result"
    }
   ],
   "source": [
    "# Method 3\n",
    "a = np.random.randn(2,3,5)\n",
    "a"
   ]
  },
  {
   "cell_type": "markdown",
   "metadata": {},
   "source": [
    "#### 4. Print *a*.\n"
   ]
  },
  {
   "cell_type": "code",
   "execution_count": 40,
   "metadata": {},
   "outputs": [
    {
     "name": "stdout",
     "output_type": "stream",
     "text": [
      "[[[61 71 24 68  1]\n",
      "  [ 8 49 52 97 98]\n",
      "  [92 29 71  0  6]]\n",
      "\n",
      " [[14 59 22 58 13]\n",
      "  [56 88 11 46  0]\n",
      "  [54 42 39 36 69]]]\n"
     ]
    }
   ],
   "source": [
    "# your code here\n",
    "print(a)"
   ]
  },
  {
   "cell_type": "markdown",
   "metadata": {},
   "source": [
    "#### 5. Create a 5x2x3 3-dimensional array with all values equaling 1. Assign the array to variable *b*."
   ]
  },
  {
   "cell_type": "code",
   "execution_count": 19,
   "metadata": {},
   "outputs": [
    {
     "data": {
      "text/plain": [
       "array([[[1., 1., 1.],\n",
       "        [1., 1., 1.]],\n",
       "\n",
       "       [[1., 1., 1.],\n",
       "        [1., 1., 1.]],\n",
       "\n",
       "       [[1., 1., 1.],\n",
       "        [1., 1., 1.]],\n",
       "\n",
       "       [[1., 1., 1.],\n",
       "        [1., 1., 1.]],\n",
       "\n",
       "       [[1., 1., 1.],\n",
       "        [1., 1., 1.]]])"
      ]
     },
     "execution_count": 19,
     "metadata": {},
     "output_type": "execute_result"
    }
   ],
   "source": [
    "# your code here\n",
    "\n",
    "b = np.ones((5,2,3))\n",
    "b"
   ]
  },
  {
   "cell_type": "markdown",
   "metadata": {},
   "source": [
    "#### 6. Print *b*.\n"
   ]
  },
  {
   "cell_type": "code",
   "execution_count": 20,
   "metadata": {},
   "outputs": [
    {
     "name": "stdout",
     "output_type": "stream",
     "text": [
      "[[[1. 1. 1.]\n",
      "  [1. 1. 1.]]\n",
      "\n",
      " [[1. 1. 1.]\n",
      "  [1. 1. 1.]]\n",
      "\n",
      " [[1. 1. 1.]\n",
      "  [1. 1. 1.]]\n",
      "\n",
      " [[1. 1. 1.]\n",
      "  [1. 1. 1.]]\n",
      "\n",
      " [[1. 1. 1.]\n",
      "  [1. 1. 1.]]]\n"
     ]
    }
   ],
   "source": [
    "# your code here\n",
    "print(b)"
   ]
  },
  {
   "cell_type": "markdown",
   "metadata": {},
   "source": [
    "#### 7. Do *a* and *b* have the same size? How do you prove that in Python code?"
   ]
  },
  {
   "cell_type": "code",
   "execution_count": 25,
   "metadata": {},
   "outputs": [
    {
     "data": {
      "text/plain": [
       "False"
      ]
     },
     "execution_count": 25,
     "metadata": {},
     "output_type": "execute_result"
    }
   ],
   "source": [
    "# your code here\n",
    "\n",
    "a.shape == b.shape"
   ]
  },
  {
   "cell_type": "markdown",
   "metadata": {},
   "source": [
    "#### 8. Are you able to add *a* and *b*? Why or why not?\n"
   ]
  },
  {
   "cell_type": "code",
   "execution_count": 28,
   "metadata": {},
   "outputs": [
    {
     "ename": "ValueError",
     "evalue": "operands could not be broadcast together with shapes (2,3,5) (5,2,3) ",
     "output_type": "error",
     "traceback": [
      "\u001b[0;31m---------------------------------------------------------------------------\u001b[0m",
      "\u001b[0;31mValueError\u001b[0m                                Traceback (most recent call last)",
      "Input \u001b[0;32mIn [28]\u001b[0m, in \u001b[0;36m<cell line: 3>\u001b[0;34m()\u001b[0m\n\u001b[1;32m      1\u001b[0m \u001b[38;5;66;03m# your answer here\u001b[39;00m\n\u001b[0;32m----> 3\u001b[0m \u001b[38;5;28mprint\u001b[39m(\u001b[43ma\u001b[49m\u001b[43m \u001b[49m\u001b[38;5;241;43m+\u001b[39;49m\u001b[43m \u001b[49m\u001b[43mb\u001b[49m)\n",
      "\u001b[0;31mValueError\u001b[0m: operands could not be broadcast together with shapes (2,3,5) (5,2,3) "
     ]
    }
   ],
   "source": [
    "# your answer here\n",
    "\n",
    "print(a + b)\n",
    "#an error appears because a and b differ in shape"
   ]
  },
  {
   "cell_type": "markdown",
   "metadata": {},
   "source": [
    "#### 9. Transpose *b* so that it has the same structure of *a* (i.e. become a 2x3x5 array). Assign the transposed array to variable *c*."
   ]
  },
  {
   "cell_type": "code",
   "execution_count": 37,
   "metadata": {},
   "outputs": [
    {
     "data": {
      "text/plain": [
       "(2, 3, 5)"
      ]
     },
     "execution_count": 37,
     "metadata": {},
     "output_type": "execute_result"
    }
   ],
   "source": [
    "# your code here\n",
    "\n",
    "c = np.reshape(b,(2,3,5))\n",
    "\n",
    "c.shape"
   ]
  },
  {
   "cell_type": "markdown",
   "metadata": {},
   "source": [
    "#### 10. Try to add *a* and *c*. Now it should work. Assign the sum to variable *d*. But why does it work now?"
   ]
  },
  {
   "cell_type": "code",
   "execution_count": 75,
   "metadata": {},
   "outputs": [
    {
     "name": "stdout",
     "output_type": "stream",
     "text": [
      "[[[62. 72. 25. 69.  2.]\n",
      "  [ 9. 50. 53. 98. 99.]\n",
      "  [93. 30. 72.  1.  7.]]\n",
      "\n",
      " [[15. 60. 23. 59. 14.]\n",
      "  [57. 89. 12. 47.  1.]\n",
      "  [55. 43. 40. 37. 70.]]]\n"
     ]
    }
   ],
   "source": [
    "# your code/answer here\n",
    "d = a+c\n",
    "print(d)"
   ]
  },
  {
   "cell_type": "markdown",
   "metadata": {},
   "source": [
    "#### 11. Print *a* and *d*. Notice the difference and relation of the two array in terms of the values? Explain."
   ]
  },
  {
   "cell_type": "code",
   "execution_count": 43,
   "metadata": {},
   "outputs": [
    {
     "name": "stdout",
     "output_type": "stream",
     "text": [
      "[[[61 71 24 68  1]\n",
      "  [ 8 49 52 97 98]\n",
      "  [92 29 71  0  6]]\n",
      "\n",
      " [[14 59 22 58 13]\n",
      "  [56 88 11 46  0]\n",
      "  [54 42 39 36 69]]]\n",
      "[[[62. 72. 25. 69.  2.]\n",
      "  [ 9. 50. 53. 98. 99.]\n",
      "  [93. 30. 72.  1.  7.]]\n",
      "\n",
      " [[15. 60. 23. 59. 14.]\n",
      "  [57. 89. 12. 47.  1.]\n",
      "  [55. 43. 40. 37. 70.]]]\n"
     ]
    }
   ],
   "source": [
    "# your code/answer here\n",
    "\n",
    "print(a)\n",
    "print(d)\n",
    "\n",
    "#every element of the array a has increased by 1 because of the sum with the array c."
   ]
  },
  {
   "cell_type": "markdown",
   "metadata": {},
   "source": [
    "#### 12. Multiply *a* and *c*. Assign the result to *e*."
   ]
  },
  {
   "cell_type": "code",
   "execution_count": 44,
   "metadata": {},
   "outputs": [
    {
     "name": "stdout",
     "output_type": "stream",
     "text": [
      "[[[61. 71. 24. 68.  1.]\n",
      "  [ 8. 49. 52. 97. 98.]\n",
      "  [92. 29. 71.  0.  6.]]\n",
      "\n",
      " [[14. 59. 22. 58. 13.]\n",
      "  [56. 88. 11. 46.  0.]\n",
      "  [54. 42. 39. 36. 69.]]]\n"
     ]
    }
   ],
   "source": [
    "# your code here\n",
    "\n",
    "e = a*c\n",
    "print(e)"
   ]
  },
  {
   "cell_type": "markdown",
   "metadata": {},
   "source": [
    "#### 13. Does *e* equal to *a*? Why or why not?\n"
   ]
  },
  {
   "cell_type": "code",
   "execution_count": 46,
   "metadata": {},
   "outputs": [
    {
     "data": {
      "text/plain": [
       "True"
      ]
     },
     "execution_count": 46,
     "metadata": {},
     "output_type": "execute_result"
    }
   ],
   "source": [
    "# your code/answer here\n",
    "\n",
    "np.array_equiv(a,e) \n",
    "\n",
    "#a == e because c is an arrya composed only by 1s, so elements of e are only multiplied by 1."
   ]
  },
  {
   "cell_type": "markdown",
   "metadata": {},
   "source": [
    "#### 14. Identify the max, min, and mean values in *d*. Assign those values to variables *d_max*, *d_min* and *d_mean*."
   ]
  },
  {
   "cell_type": "code",
   "execution_count": 50,
   "metadata": {},
   "outputs": [
    {
     "name": "stdout",
     "output_type": "stream",
     "text": [
      "[[[62. 72. 25. 69.  2.]\n",
      "  [ 9. 50. 53. 98. 99.]\n",
      "  [93. 30. 72.  1.  7.]]\n",
      "\n",
      " [[15. 60. 23. 59. 14.]\n",
      "  [57. 89. 12. 47.  1.]\n",
      "  [55. 43. 40. 37. 70.]]]\n",
      "max in d is 99.0, min in d is 1.0 and mean in d is 45.46666666666667\n"
     ]
    }
   ],
   "source": [
    "# your code here\n",
    "\n",
    "d_max = np.max(d)\n",
    "d_min = np.min(d)\n",
    "d_mean = np.mean(d)\n",
    "\n",
    "print(d)\n",
    "\n",
    "print(f\"max in d is {d_max}, min in d is {d_min} and mean in d is {d_mean}\")"
   ]
  },
  {
   "cell_type": "markdown",
   "metadata": {},
   "source": [
    "#### 15. Now we want to label the values in *d*. First create an empty array *f* with the same shape (i.e. 2x3x5) as *d* using `np.empty`.\n"
   ]
  },
  {
   "cell_type": "code",
   "execution_count": 54,
   "metadata": {},
   "outputs": [
    {
     "data": {
      "text/plain": [
       "array([[[62., 72., 25., 69.,  2.],\n",
       "        [ 9., 50., 53., 98., 99.],\n",
       "        [93., 30., 72.,  1.,  7.]],\n",
       "\n",
       "       [[15., 60., 23., 59., 14.],\n",
       "        [57., 89., 12., 47.,  1.],\n",
       "        [55., 43., 40., 37., 70.]]])"
      ]
     },
     "execution_count": 54,
     "metadata": {},
     "output_type": "execute_result"
    }
   ],
   "source": [
    "# your code here\n",
    "\n",
    "f = np.empty((2,3,5))\n",
    "f"
   ]
  },
  {
   "cell_type": "markdown",
   "metadata": {},
   "source": [
    "#### 16. Populate the values in *f*. \n",
    "\n",
    "For each value in *d*, if it's larger than *d_min* but smaller than *d_mean*, assign 25 to the corresponding value in *f*. If a value in *d* is larger than *d_mean* but smaller than *d_max*, assign 75 to the corresponding value in *f*. If a value equals to *d_mean*, assign 50 to the corresponding value in *f*. Assign 0 to the corresponding value(s) in *f* for *d_min* in *d*. Assign 100 to the corresponding value(s) in *f* for *d_max* in *d*. In the end, f should have only the following values: 0, 25, 50, 75, and 100.\n",
    "\n",
    "**Note**: you don't have to use Numpy in this question."
   ]
  },
  {
   "cell_type": "code",
   "execution_count": 79,
   "metadata": {},
   "outputs": [
    {
     "name": "stdout",
     "output_type": "stream",
     "text": [
      "max in d is 99.0, min in d is 1.0 and mean in d is 45.46666666666667\n",
      "[[[62. 72. 25. 69.  2.]\n",
      "  [ 9. 50. 53. 98. 99.]\n",
      "  [93. 30. 72.  1.  7.]]\n",
      "\n",
      " [[15. 60. 23. 59. 14.]\n",
      "  [57. 89. 12. 47.  1.]\n",
      "  [55. 43. 40. 37. 70.]]]\n",
      "[[[ 75.  75.  25.  75.  25.]\n",
      "  [ 25.  75.  75.  75. 100.]\n",
      "  [ 75.  25.  75.   0.  25.]]\n",
      "\n",
      " [[ 25.  75.  25.  75.  25.]\n",
      "  [ 75.  75.  25.  75.   0.]\n",
      "  [ 75.  25.  25.  25.  75.]]]\n"
     ]
    }
   ],
   "source": [
    "# your code here\n",
    "d_flat = d.flatten()\n",
    "f_flat = f.flatten()\n",
    "\n",
    "for i in range (len(d_flat)):\n",
    "            if d_flat[i] > d_min and d_flat[i] < d_mean:\n",
    "                f_flat[i] = 25\n",
    "            \n",
    "            elif d_flat[i] > d_mean and d_flat[i] < d_max:\n",
    "                f_flat[i] = 75\n",
    "                \n",
    "            elif d_flat[i] == d_mean:\n",
    "                f_flat[i] = 50\n",
    "                \n",
    "            elif d_flat[i] == d_min:\n",
    "                f_flat[i] = 0\n",
    "                \n",
    "            elif d_flat[i] == d_max:\n",
    "                f_flat[i] = 100\n",
    "\n",
    "f = f_flat.reshape((2,3,5))\n",
    "\n",
    "print(f\"max in d is {d_max}, min in d is {d_min} and mean in d is {d_mean}\")\n",
    "\n",
    "print (d)\n",
    "\n",
    "print(f)"
   ]
  },
  {
   "cell_type": "markdown",
   "metadata": {},
   "source": [
    "#### 17. Print *d* and *f*. Do you have your expected *f*?\n",
    "For instance, if your *d* is:\n",
    "```python\n",
    "[[[1.85836099, 1.67064465, 1.62576044, 1.40243961, 1.88454931],\n",
    "[1.75354326, 1.69403643, 1.36729252, 1.61415071, 1.12104981],\n",
    "[1.72201435, 1.1862918 , 1.87078449, 1.7726778 , 1.88180042]],\n",
    "[[1.44747908, 1.31673383, 1.02000951, 1.52218947, 1.97066381],\n",
    "[1.79129243, 1.74983003, 1.96028037, 1.85166831, 1.65450881],\n",
    "[1.18068344, 1.9587381 , 1.00656599, 1.93402165, 1.73514584]]]\n",
    "```\n",
    "Your *f* should be:\n",
    "```python\n",
    "[[[ 75.,  75.,  75.,  25.,  75.],\n",
    "[ 75.,  75.,  25.,  25.,  25.],\n",
    "[ 75.,  25.,  75.,  75.,  75.]],\n",
    "[[ 25.,  25.,  25.,  25., 100.],\n",
    "[ 75.,  75.,  75.,  75.,  75.],\n",
    "[ 25.,  75.,   0.,  75.,  75.]]]\n",
    "```"
   ]
  },
  {
   "cell_type": "code",
   "execution_count": 85,
   "metadata": {},
   "outputs": [
    {
     "name": "stdout",
     "output_type": "stream",
     "text": [
      "[[[ 75.  75.  75.  25.  75.]\n",
      "  [ 75.  75.  25.  25.  25.]\n",
      "  [ 75.  25.  75.  75.  75.]]\n",
      "\n",
      " [[ 25.  25.  25.  25. 100.]\n",
      "  [ 75.  75.  75.  75.  75.]\n",
      "  [ 25.  75.   0.  75.  75.]]]\n"
     ]
    }
   ],
   "source": [
    "# your code here\n",
    "d = np.array([[[1.85836099, 1.67064465, 1.62576044, 1.40243961, 1.88454931],\n",
    "[1.75354326, 1.69403643, 1.36729252, 1.61415071, 1.12104981],\n",
    "[1.72201435, 1.1862918 , 1.87078449, 1.7726778 , 1.88180042]],\n",
    "[[1.44747908, 1.31673383, 1.02000951, 1.52218947, 1.97066381],\n",
    "[1.79129243, 1.74983003, 1.96028037, 1.85166831, 1.65450881],\n",
    "[1.18068344, 1.9587381 , 1.00656599, 1.93402165, 1.73514584]]])\n",
    "\n",
    "d_flat = d.flatten()\n",
    "f_flat = f.flatten()\n",
    "\n",
    "\n",
    "d_max = np.max(d)\n",
    "d_min = np.min(d)\n",
    "d_mean = np.mean(d)\n",
    "\n",
    "for i in range (len(d_flat)):\n",
    "            if d_flat[i] > d_min and d_flat[i] < d_mean:\n",
    "                f_flat[i] = 25\n",
    "\n",
    "            elif d_flat[i] > d_mean and d_flat[i] < d_max:\n",
    "                f_flat[i] = 75\n",
    "\n",
    "            elif d_flat[i] == d_mean:\n",
    "                f_flat[i] = 50\n",
    "\n",
    "            elif d_flat[i] == d_min:\n",
    "                f_flat[i] = 0\n",
    "\n",
    "            elif d_flat[i] == d_max:\n",
    "                f_flat[i] = 100\n",
    "\n",
    "f = f_flat.reshape((2,3,5))\n",
    "\n",
    "print(f)"
   ]
  },
  {
   "cell_type": "markdown",
   "metadata": {},
   "source": [
    "#### 18. Bonus question: instead of using numbers (i.e. 0, 25, 50, 75, and 100), use string values  (\"A\", \"B\", \"C\", \"D\", and \"E\") to label the array elements. For the example above, the expected result is:\n",
    "\n",
    "```python\n",
    "[[[ 'D',  'D',  'D',  'B',  'D'],\n",
    "[ 'D',  'D',  'B',  'B',  'B'],\n",
    "[ 'D',  'B',  'D',  'D',  'D']],\n",
    "[[ 'B',  'B',  'B',  'B',  'E'],\n",
    "[ 'D',  'D',  'D',  'D',  'D'],\n",
    "[ 'B',  'D',   'A',  'D', 'D']]]\n",
    "```\n",
    "**Note**: you don't have to use Numpy in this question."
   ]
  },
  {
   "cell_type": "code",
   "execution_count": 93,
   "metadata": {},
   "outputs": [
    {
     "name": "stdout",
     "output_type": "stream",
     "text": [
      "[[['D' 'D' 'D' 'B' 'D']\n",
      "  ['D' 'D' 'B' 'B' 'B']\n",
      "  ['D' 'B' 'D' 'D' 'D']]\n",
      "\n",
      " [['B' 'B' 'B' 'B' 'E']\n",
      "  ['D' 'D' 'D' 'D' 'D']\n",
      "  ['B' 'D' 'A' 'D' 'D']]]\n"
     ]
    }
   ],
   "source": [
    "# your code here\n",
    "f_flat = f_flat.astype(np.unicode_)\n",
    "\n",
    "for i in range (len(d_flat)):\n",
    "            if d_flat[i] > d_min and d_flat[i] < d_mean:\n",
    "                f_flat[i] = \"B\"\n",
    "\n",
    "            elif d_flat[i] > d_mean and d_flat[i] < d_max:\n",
    "                f_flat[i] = \"D\"\n",
    "\n",
    "            elif d_flat[i] == d_mean:\n",
    "                f_flat[i] = \"C\"\n",
    "\n",
    "            elif d_flat[i] == d_min:\n",
    "                f_flat[i] = \"A\"\n",
    "\n",
    "            elif d_flat[i] == d_max:\n",
    "                f_flat[i] = \"E\"\n",
    "\n",
    "f = f_flat.reshape((2,3,5))\n",
    "\n",
    "print(f)"
   ]
  },
  {
   "cell_type": "code",
   "execution_count": null,
   "metadata": {},
   "outputs": [],
   "source": []
  }
 ],
 "metadata": {
  "kernelspec": {
   "display_name": "Python 3 (ipykernel)",
   "language": "python",
   "name": "python3"
  },
  "language_info": {
   "codemirror_mode": {
    "name": "ipython",
    "version": 3
   },
   "file_extension": ".py",
   "mimetype": "text/x-python",
   "name": "python",
   "nbconvert_exporter": "python",
   "pygments_lexer": "ipython3",
   "version": "3.9.12"
  }
 },
 "nbformat": 4,
 "nbformat_minor": 2
}
