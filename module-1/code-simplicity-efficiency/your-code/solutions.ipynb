{
 "cells": [
  {
   "cell_type": "markdown",
   "id": "5f129fff",
   "metadata": {},
   "source": [
    "**CHALLENGE 1**"
   ]
  },
  {
   "cell_type": "code",
   "execution_count": null,
   "id": "3c0cef6a",
   "metadata": {},
   "outputs": [],
   "source": [
    "dict_input = {\"zero\" : 0, \"one\" : 1, \"two\" : 2, \"three\" : 3, \"four\" : 4, \"five\" : 5}\n",
    "dict_output = {0 : \"zero\", 1 : \"one\", 2 : \"two\", 3 : \"three\", 4 : \"four\", 5 : \"five\", 6 : \"six\", 7 : \"seven\",\n",
    "               8: \"eight\", 9: \"nine\", 10: \"ten\"}\n",
    "\n",
    "def calculator (a,b,c):\n",
    "    \n",
    "    x = dict_input.get(a)\n",
    "    if x == None:\n",
    "        return print(\"I am not able to answer this question. Check your input.\")\n",
    "    \n",
    "    else: \n",
    "        y = dict_input.get(c)\n",
    "    \n",
    "    if b == \"plus\":\n",
    "        z = x+y\n",
    "    else:\n",
    "        z = x-y\n",
    "    print(\"\\n\")    \n",
    "    print(f'{a} {b} {c} equals {dict_output.get(z)}')\n",
    "    print(\"\\n\")\n",
    "    return print(\"Thanks for using this calculator, goodbye :)\")"
   ]
  },
  {
   "cell_type": "code",
   "execution_count": 4,
   "id": "55908922",
   "metadata": {},
   "outputs": [
    {
     "name": "stdout",
     "output_type": "stream",
     "text": [
      "Welcome to this calculator!\n",
      "It can add and subtract whole numbers from zero to five\n",
      "Please choose your first number (zero to five): five\n",
      "What do you want to do? plus or minus: minus\n",
      "Please choose your second number (zero to five): four\n",
      "\n",
      "\n",
      "five minus four equals one\n",
      "\n",
      "\n",
      "Thanks for using this calculator, goodbye :)\n",
      "CPU times: user 132 ms, sys: 107 ms, total: 239 ms\n",
      "Wall time: 16.7 s\n"
     ]
    }
   ],
   "source": [
    "%%time\n",
    "\n",
    "print('Welcome to this calculator!')\n",
    "print('It can add and subtract whole numbers from zero to five')\n",
    "a = input('Please choose your first number (zero to five): ')\n",
    "b = input('What do you want to do? plus or minus: ')\n",
    "c = input('Please choose your second number (zero to five): ')\n",
    "\n",
    "calculator(a,b,c)"
   ]
  },
  {
   "cell_type": "markdown",
   "id": "3d7989d6",
   "metadata": {},
   "source": [
    "**CHALLENGE 2**"
   ]
  },
  {
   "cell_type": "code",
   "execution_count": null,
   "id": "2cd56a59",
   "metadata": {},
   "outputs": [],
   "source": [
    "%%time\n",
    "import string\n",
    "import random\n",
    "import sys\n",
    "\n",
    "def RandomStringGenerator(l=12, a=[i for i in string.ascii_lowercase+string.digits]):\n",
    "    s = ''.join(random.sample(a,l))\n",
    "    return s\n",
    "\n",
    "def BatchStringGenerator(n, a=8, b=12):\n",
    "    l = []\n",
    "    c = [random.choice(range(a, b)) if a < b else a if a == b else sys.exit('Incorrect min and max string lengths. Try again.') for i in range(n)]\n",
    "    for i in c:\n",
    "        l.append(RandomStringGenerator(i))\n",
    "    return l\n",
    "\n",
    "a = input('Enter minimum string length: ')\n",
    "b = input('Enter maximum string length: ')\n",
    "n = input('How many random strings to generate? ')\n",
    "\n",
    "print(BatchStringGenerator(int(n), int(a), int(b)))"
   ]
  },
  {
   "cell_type": "markdown",
   "id": "e4fd4629",
   "metadata": {},
   "source": [
    "**CHALLENGE 3**"
   ]
  },
  {
   "cell_type": "code",
   "execution_count": null,
   "id": "deac51bb",
   "metadata": {},
   "outputs": [],
   "source": [
    "def my_function(X):\n",
    "    solutions = []\n",
    "    for x in range(5, X):\n",
    "        for y in range(4, X):\n",
    "            for z in range(3, X):\n",
    "                if (x*x==y*y+z*z):\n",
    "                    solutions.append([x, y, z])\n",
    "    print(solutions)\n",
    "    return solutions[len(solutions)-1][0] #we want the last x that appears so why don't we just print it.\n",
    "\n",
    "X = input(\"What is the maximal length of the triangle side? Enter a number: \")\n",
    "\n",
    "print(\"The longest side possible is \" + str(my_function(int(X))))"
   ]
  }
 ],
 "metadata": {
  "kernelspec": {
   "display_name": "Python 3 (ipykernel)",
   "language": "python",
   "name": "python3"
  },
  "language_info": {
   "codemirror_mode": {
    "name": "ipython",
    "version": 3
   },
   "file_extension": ".py",
   "mimetype": "text/x-python",
   "name": "python",
   "nbconvert_exporter": "python",
   "pygments_lexer": "ipython3",
   "version": "3.9.12"
  }
 },
 "nbformat": 4,
 "nbformat_minor": 5
}
