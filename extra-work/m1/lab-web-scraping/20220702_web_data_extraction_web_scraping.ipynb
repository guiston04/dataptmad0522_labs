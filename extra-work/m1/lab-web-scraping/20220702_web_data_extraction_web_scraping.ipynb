{
 "cells": [
  {
   "cell_type": "markdown",
   "id": "f8688f96",
   "metadata": {},
   "source": [
    "# Web Data Extraction - Part II\n",
    "\n",
    "__WEB SCRAPING:__ data extraction from human-readable output coming from a web browser.\n",
    "\n",
    "__HTTP library for Python:__ [BeautifulSoup](https://www.crummy.com/software/BeautifulSoup/bs4/doc/) ==> _a Python package for parsing HTML and XML documents_"
   ]
  },
  {
   "cell_type": "markdown",
   "id": "de8b386d",
   "metadata": {},
   "source": [
    "---"
   ]
  },
  {
   "cell_type": "code",
   "execution_count": 1,
   "id": "22d966a8",
   "metadata": {},
   "outputs": [],
   "source": [
    "# Import libraries\n",
    "import pandas as pd\n",
    "import requests\n",
    "import bs4   # !pip install beautifulsoup4\n",
    "import re"
   ]
  },
  {
   "cell_type": "markdown",
   "id": "6e0051ea",
   "metadata": {},
   "source": [
    "---"
   ]
  },
  {
   "cell_type": "code",
   "execution_count": 69,
   "id": "44e8c42b",
   "metadata": {},
   "outputs": [
    {
     "name": "stdout",
     "output_type": "stream",
     "text": [
      "Status code is: 200\n",
      "<class 'bytes'>\n"
     ]
    }
   ],
   "source": [
    "# Document Object Model (DOM) -> https://en.wikipedia.org/wiki/Document_Object_Model\n",
    "headers = {'user-agent': 'Mozilla/5.0 (Windows NT 6.1; Win64; x64; rv:47.0) Gecko/20100101 Firefox/47.0'}\n",
    "# https://developer.mozilla.org/en-US/docs/Web/HTTP/Headers/User-Agent\n",
    "\n",
    "url = 'https://www.marca.com/'\n",
    "response = requests.get(url, headers=headers, timeout=0.05)\n",
    "html = response.content\n",
    "print(f'Status code is: {response.status_code}')\n",
    "print(type(html))"
   ]
  },
  {
   "cell_type": "code",
   "execution_count": 9,
   "id": "497907d8",
   "metadata": {},
   "outputs": [
    {
     "data": {
      "text/plain": [
       "b' <!DOCTYPE html><html lang=\"es\"><head><script>/\\\\/radio(\\\\/parrilla)?.html/gmi.test(location.href||\"\")&&/MSIE|Trident/gm.test(navigator.userAgent||\"\")&&!!window.MSInputMethodContext&&!!document.documentMode&&function(){var a=document.createElement(\"script\");a.src=\"//e00-elmundo.uecdn.es/js/ue-polyfills.min.js\",a.type=\"text/javascript\";var b=document.getElementsByTagName(\"script\")[0];b.parentNode.insertBefore(a,b)}();</script>\\n<script type=\"text/javascript\" language=\"javascript\" src=\"https://e00-ue.uecdn.es/cookies/js/policy_v4.js\"></script>\\n<script>window.googlefc=window.googlefc||{},window.googlefc.ccpa=window.googlefc.ccpa||{},window.googlefc.callbackQueue=window.googlefc.callbackQueue||[],googlefc.callbackQueue.push({AD_BLOCK_DATA_READY:()=>{var o;switch(googlefc.getAdBlockerStatus()){case googlefc.AdBlockerStatusEnum.EXTENSION_LEVEL_AD_BLOCKER:case googlefc.AdBlockerStatusEnum.NETWORK_LEVEL_AD_BLOCKER:o=\"bloqueada\";break;case googlefc.AdBlockerStatusEnum.NO_AD_BLOCKER:o=\"no bloqueada'"
      ]
     },
     "execution_count": 9,
     "metadata": {},
     "output_type": "execute_result"
    }
   ],
   "source": [
    "html[:1000]"
   ]
  },
  {
   "cell_type": "markdown",
   "id": "34813ee7",
   "metadata": {},
   "source": [
    "#### Parsing with BeautifulSoup"
   ]
  },
  {
   "cell_type": "code",
   "execution_count": 11,
   "id": "bcac0b4f",
   "metadata": {},
   "outputs": [
    {
     "name": "stdout",
     "output_type": "stream",
     "text": [
      "<!DOCTYPE html>\n",
      "<html lang=\"es\">\n",
      " <head>\n",
      "  <script>\n",
      "   /\\/radio(\\/parrilla)?.html/gmi.test(location.href||\"\")&&/MSIE|Trident/gm.test(navigator.userAgent||\"\")&&!!window.MSInputMethodContext&&!!document.documentMode&&function(){var a=document.createElement(\"script\");a.src=\"//e00-elmundo.uecdn.es/js/ue-polyfills.min.js\",a.type=\"text/javascript\";var b=document.getElementsByTagName(\"script\")[0];b.parentNode.insertBefore(a,b)}();\n",
      "  </script>\n",
      "  <script language=\"javascript\" src=\"https://e00-ue.uecdn.es/cookies/js/policy_v4.js\" type=\"text/javascript\">\n",
      "  </script>\n",
      "  <script>\n",
      "  </script>\n",
      " </head>\n",
      "</html>\n"
     ]
    }
   ],
   "source": [
    "parsed_html = bs4.BeautifulSoup(html[:1000], \"html.parser\") \n",
    "print(parsed_html.prettify())"
   ]
  },
  {
   "cell_type": "markdown",
   "id": "e337b020",
   "metadata": {},
   "source": [
    "---"
   ]
  },
  {
   "cell_type": "markdown",
   "id": "4514b76d",
   "metadata": {},
   "source": [
    "__Lets make some broth...__\n",
    "\n",
    "![Image](./img/web_data_01.png)"
   ]
  },
  {
   "cell_type": "code",
   "execution_count": 12,
   "id": "6f3f019c",
   "metadata": {},
   "outputs": [
    {
     "name": "stdout",
     "output_type": "stream",
     "text": [
      "<class 'bs4.BeautifulSoup'>\n"
     ]
    },
    {
     "data": {
      "text/plain": [
       "<a class=\"intro\" href=\"url.com\" id=\"example\" itemprop=\"url\" title=\"Web Scraping\">Hello World</a>"
      ]
     },
     "execution_count": 12,
     "metadata": {},
     "output_type": "execute_result"
    }
   ],
   "source": [
    "html_sample = '<a href=\"url.com\" title=\"Web Scraping\" itemprop=\"url\" id=\"example\" class=\"intro\">Hello World</a>'\n",
    "broth = bs4.BeautifulSoup(html_sample, \"html.parser\") \n",
    "print(type(broth))\n",
    "broth"
   ]
  },
  {
   "cell_type": "code",
   "execution_count": 15,
   "id": "dfcc14d3",
   "metadata": {},
   "outputs": [
    {
     "name": "stdout",
     "output_type": "stream",
     "text": [
      "<class 'bs4.element.Tag'>\n"
     ]
    },
    {
     "data": {
      "text/plain": [
       "<a class=\"intro\" href=\"url.com\" id=\"example\" itemprop=\"url\" title=\"Web Scraping\">Hello World</a>"
      ]
     },
     "execution_count": 15,
     "metadata": {},
     "output_type": "execute_result"
    }
   ],
   "source": [
    "tag = broth.a\n",
    "print(type(tag))\n",
    "tag"
   ]
  },
  {
   "cell_type": "code",
   "execution_count": 16,
   "id": "300510fd",
   "metadata": {},
   "outputs": [
    {
     "data": {
      "text/plain": [
       "'a'"
      ]
     },
     "execution_count": 16,
     "metadata": {},
     "output_type": "execute_result"
    }
   ],
   "source": [
    "tag.name\n",
    "#tag.name = 'b'\n",
    "#tag.name"
   ]
  },
  {
   "cell_type": "code",
   "execution_count": 18,
   "id": "96033441",
   "metadata": {},
   "outputs": [
    {
     "data": {
      "text/plain": [
       "{'href': 'url.com',\n",
       " 'title': 'Web Scraping',\n",
       " 'itemprop': 'url',\n",
       " 'id': 'example',\n",
       " 'class': ['intro']}"
      ]
     },
     "execution_count": 18,
     "metadata": {},
     "output_type": "execute_result"
    }
   ],
   "source": [
    "tag.attrs"
   ]
  },
  {
   "cell_type": "code",
   "execution_count": 20,
   "id": "1aa6c504",
   "metadata": {},
   "outputs": [
    {
     "data": {
      "text/plain": [
       "'url.com'"
      ]
     },
     "execution_count": 20,
     "metadata": {},
     "output_type": "execute_result"
    }
   ],
   "source": [
    "tag['href']"
   ]
  },
  {
   "cell_type": "code",
   "execution_count": 21,
   "id": "093ca3ba",
   "metadata": {},
   "outputs": [
    {
     "data": {
      "text/plain": [
       "'Hello World'"
      ]
     },
     "execution_count": 21,
     "metadata": {},
     "output_type": "execute_result"
    }
   ],
   "source": [
    "tag.string"
   ]
  },
  {
   "cell_type": "code",
   "execution_count": 22,
   "id": "38ec9e8c",
   "metadata": {},
   "outputs": [
    {
     "data": {
      "text/plain": [
       "'[document]'"
      ]
     },
     "execution_count": 22,
     "metadata": {},
     "output_type": "execute_result"
    }
   ],
   "source": [
    "# Be careful, this is the whole HTML document name\n",
    "broth.name"
   ]
  },
  {
   "cell_type": "markdown",
   "id": "098f470e",
   "metadata": {},
   "source": [
    "---"
   ]
  },
  {
   "cell_type": "markdown",
   "id": "5a9fe7e1",
   "metadata": {},
   "source": [
    "__Now, let's make some soup...__"
   ]
  },
  {
   "cell_type": "code",
   "execution_count": 23,
   "id": "c85dd747",
   "metadata": {},
   "outputs": [
    {
     "name": "stdout",
     "output_type": "stream",
     "text": [
      "<class 'bs4.BeautifulSoup'>\n"
     ]
    },
    {
     "data": {
      "text/plain": [
       "\n",
       "<html><head><title>The Dormouse's story</title></head>\n",
       "<body>\n",
       "<p class=\"title\"><b>The Dormouse's story</b></p>\n",
       "<p class=\"story\">Once upon a time there were three little sisters; and their names were\n",
       "<a class=\"sister\" href=\"http://example.com/elsie\" id=\"link1\">Elsie</a>,\n",
       "<a class=\"sister\" href=\"http://example.com/lacie\" id=\"link2\">Lacie</a> and\n",
       "<a class=\"sister\" href=\"http://example.com/tillie\" id=\"link3\">Tillie</a>;\n",
       "and they lived at the bottom of a well.</p>\n",
       "<p class=\"story\">...</p>\n",
       "</body></html>"
      ]
     },
     "execution_count": 23,
     "metadata": {},
     "output_type": "execute_result"
    }
   ],
   "source": [
    "html_doc = \"\"\"\n",
    "<html><head><title>The Dormouse's story</title></head>\n",
    "<body>\n",
    "<p class=\"title\"><b>The Dormouse's story</b></p>\n",
    "\n",
    "<p class=\"story\">Once upon a time there were three little sisters; and their names were\n",
    "<a href=\"http://example.com/elsie\" class=\"sister\" id=\"link1\">Elsie</a>,\n",
    "<a href=\"http://example.com/lacie\" class=\"sister\" id=\"link2\">Lacie</a> and\n",
    "<a href=\"http://example.com/tillie\" class=\"sister\" id=\"link3\">Tillie</a>;\n",
    "and they lived at the bottom of a well.</p>\n",
    "\n",
    "<p class=\"story\">...</p>\n",
    "\"\"\"\n",
    "soup = bs4.BeautifulSoup(html_doc, \"html.parser\") \n",
    "print(type(soup))\n",
    "soup"
   ]
  },
  {
   "cell_type": "code",
   "execution_count": 25,
   "id": "beee4953",
   "metadata": {},
   "outputs": [
    {
     "name": "stdout",
     "output_type": "stream",
     "text": [
      "<class 'bs4.element.Tag'>\n"
     ]
    },
    {
     "data": {
      "text/plain": [
       "<html><head><title>The Dormouse's story</title></head>\n",
       "<body>\n",
       "<p class=\"title\"><b>The Dormouse's story</b></p>\n",
       "<p class=\"story\">Once upon a time there were three little sisters; and their names were\n",
       "<a class=\"sister\" href=\"http://example.com/elsie\" id=\"link1\">Elsie</a>,\n",
       "<a class=\"sister\" href=\"http://example.com/lacie\" id=\"link2\">Lacie</a> and\n",
       "<a class=\"sister\" href=\"http://example.com/tillie\" id=\"link3\">Tillie</a>;\n",
       "and they lived at the bottom of a well.</p>\n",
       "<p class=\"story\">...</p>\n",
       "</body></html>"
      ]
     },
     "execution_count": 25,
     "metadata": {},
     "output_type": "execute_result"
    }
   ],
   "source": [
    "print(type(soup.html))\n",
    "soup.html \n",
    "soup.find('html')"
   ]
  },
  {
   "cell_type": "code",
   "execution_count": 32,
   "id": "17382032",
   "metadata": {},
   "outputs": [
    {
     "data": {
      "text/plain": [
       "[<html><head><title>The Dormouse's story</title></head>\n",
       " <body>\n",
       " <p class=\"title\"><b>The Dormouse's story</b></p>\n",
       " <p class=\"story\">Once upon a time there were three little sisters; and their names were\n",
       " <a class=\"sister\" href=\"http://example.com/elsie\" id=\"link1\">Elsie</a>,\n",
       " <a class=\"sister\" href=\"http://example.com/lacie\" id=\"link2\">Lacie</a> and\n",
       " <a class=\"sister\" href=\"http://example.com/tillie\" id=\"link3\">Tillie</a>;\n",
       " and they lived at the bottom of a well.</p>\n",
       " <p class=\"story\">...</p>\n",
       " </body></html>,\n",
       " <body>\n",
       " <p class=\"title\"><b>The Dormouse's story</b></p>\n",
       " <p class=\"story\">Once upon a time there were three little sisters; and their names were\n",
       " <a class=\"sister\" href=\"http://example.com/elsie\" id=\"link1\">Elsie</a>,\n",
       " <a class=\"sister\" href=\"http://example.com/lacie\" id=\"link2\">Lacie</a> and\n",
       " <a class=\"sister\" href=\"http://example.com/tillie\" id=\"link3\">Tillie</a>;\n",
       " and they lived at the bottom of a well.</p>\n",
       " <p class=\"story\">...</p>\n",
       " </body>,\n",
       " <b>The Dormouse's story</b>,\n",
       " <a class=\"sister\" href=\"http://example.com/elsie\" id=\"link1\">Elsie</a>,\n",
       " <a class=\"sister\" href=\"http://example.com/lacie\" id=\"link2\">Lacie</a>,\n",
       " <a class=\"sister\" href=\"http://example.com/tillie\" id=\"link3\">Tillie</a>]"
      ]
     },
     "execution_count": 32,
     "metadata": {},
     "output_type": "execute_result"
    }
   ],
   "source": [
    "#print(type(soup.find_all(\"a\")))\n",
    "#soup.find_all(\"a\")\n",
    "soup.find_all([\"a\", \"b\", \"html\", \"body\"])"
   ]
  },
  {
   "cell_type": "code",
   "execution_count": 33,
   "id": "754ded22",
   "metadata": {},
   "outputs": [
    {
     "name": "stdout",
     "output_type": "stream",
     "text": [
      "<class 'list'>\n"
     ]
    },
    {
     "data": {
      "text/plain": [
       "['html', 'head', 'title', 'body', 'p', 'b', 'p', 'a', 'a', 'a', 'p']"
      ]
     },
     "execution_count": 33,
     "metadata": {},
     "output_type": "execute_result"
    }
   ],
   "source": [
    "all_tags = [tag.name for tag in soup.find_all(True)]\n",
    "print(type(all_tags))\n",
    "all_tags"
   ]
  },
  {
   "cell_type": "code",
   "execution_count": 34,
   "id": "d6bf94d5",
   "metadata": {},
   "outputs": [
    {
     "data": {
      "text/plain": [
       "['body', 'b']"
      ]
     },
     "execution_count": 34,
     "metadata": {},
     "output_type": "execute_result"
    }
   ],
   "source": [
    "some_tags = [tag.name for tag in soup.find_all(re.compile(\"^b\"))]\n",
    "some_tags"
   ]
  },
  {
   "cell_type": "code",
   "execution_count": 39,
   "id": "227796bb",
   "metadata": {},
   "outputs": [
    {
     "data": {
      "text/plain": [
       "['sister']"
      ]
     },
     "execution_count": 39,
     "metadata": {},
     "output_type": "execute_result"
    }
   ],
   "source": [
    "tag = soup.a\n",
    "tag.has_attr('class')\n",
    "tag['class']"
   ]
  },
  {
   "cell_type": "code",
   "execution_count": 44,
   "id": "7007c557",
   "metadata": {},
   "outputs": [],
   "source": [
    "# Using a function\n",
    "def has_class_but_no_id(tag):\n",
    "    return tag.has_attr('class') and not tag.has_attr('id')"
   ]
  },
  {
   "cell_type": "code",
   "execution_count": 48,
   "id": "3ea6c68f",
   "metadata": {},
   "outputs": [
    {
     "data": {
      "text/plain": [
       "[<p class=\"title\"><b>The Dormouse's story</b></p>,\n",
       " <p class=\"story\">Once upon a time there were three little sisters; and their names were\n",
       " <a class=\"sister\" href=\"http://example.com/elsie\" id=\"link1\">Elsie</a>,\n",
       " <a class=\"sister\" href=\"http://example.com/lacie\" id=\"link2\">Lacie</a> and\n",
       " <a class=\"sister\" href=\"http://example.com/tillie\" id=\"link3\">Tillie</a>;\n",
       " and they lived at the bottom of a well.</p>,\n",
       " <p class=\"story\">...</p>]"
      ]
     },
     "execution_count": 48,
     "metadata": {},
     "output_type": "execute_result"
    }
   ],
   "source": [
    "soup.find_all(has_class_but_no_id)"
   ]
  },
  {
   "cell_type": "code",
   "execution_count": 49,
   "id": "4087a9b6",
   "metadata": {},
   "outputs": [
    {
     "data": {
      "text/plain": [
       "'[document]'"
      ]
     },
     "execution_count": 49,
     "metadata": {},
     "output_type": "execute_result"
    }
   ],
   "source": [
    "# Be careful, this is the whole HTML document name\n",
    "soup.name"
   ]
  },
  {
   "cell_type": "markdown",
   "id": "3ac6dbb1",
   "metadata": {},
   "source": [
    "---"
   ]
  },
  {
   "cell_type": "markdown",
   "id": "80ce0d8c",
   "metadata": {},
   "source": [
    "__Finally, let's make a stew...__"
   ]
  },
  {
   "cell_type": "code",
   "execution_count": 54,
   "id": "ae75b394",
   "metadata": {},
   "outputs": [
    {
     "data": {
      "text/plain": [
       "[<a class=\"sister\" href=\"http://example.com/elsie\" id=\"link1\">Elsie</a>,\n",
       " <a class=\"sister\" href=\"http://example.com/lacie\" id=\"link2\">Lacie</a>,\n",
       " <a class=\"sister\" href=\"http://example.com/tillie\" id=\"link3\">Tillie</a>]"
      ]
     },
     "execution_count": 54,
     "metadata": {},
     "output_type": "execute_result"
    }
   ],
   "source": [
    "stew = soup.find_all(\"a\", {\"class\": \"sister\"})\n",
    "stew"
   ]
  },
  {
   "cell_type": "code",
   "execution_count": 55,
   "id": "2fe28033",
   "metadata": {},
   "outputs": [
    {
     "data": {
      "text/plain": [
       "['Elsie', 'Lacie', 'Tillie']"
      ]
     },
     "execution_count": 55,
     "metadata": {},
     "output_type": "execute_result"
    }
   ],
   "source": [
    "all_strings = [tag.string for tag in stew]\n",
    "all_strings"
   ]
  },
  {
   "cell_type": "code",
   "execution_count": 56,
   "id": "a65315f3",
   "metadata": {},
   "outputs": [
    {
     "data": {
      "text/plain": [
       "'a'"
      ]
     },
     "execution_count": 56,
     "metadata": {},
     "output_type": "execute_result"
    }
   ],
   "source": [
    "# Be careful, this is NOT the whole HTML document name\n",
    "stew[0].name"
   ]
  },
  {
   "cell_type": "markdown",
   "id": "a433c275",
   "metadata": {},
   "source": [
    "---"
   ]
  },
  {
   "cell_type": "markdown",
   "id": "7e990515",
   "metadata": {},
   "source": [
    "__Back to the original HTML content...__"
   ]
  },
  {
   "cell_type": "code",
   "execution_count": 70,
   "id": "7edc2255",
   "metadata": {
    "scrolled": false
   },
   "outputs": [
    {
     "data": {
      "text/plain": [
       "{'a',\n",
       " 'address',\n",
       " 'article',\n",
       " 'aside',\n",
       " 'body',\n",
       " 'button',\n",
       " 'circle',\n",
       " 'div',\n",
       " 'fieldset',\n",
       " 'figure',\n",
       " 'footer',\n",
       " 'form',\n",
       " 'g',\n",
       " 'h1',\n",
       " 'h2',\n",
       " 'h3',\n",
       " 'head',\n",
       " 'header',\n",
       " 'html',\n",
       " 'i',\n",
       " 'iframe',\n",
       " 'img',\n",
       " 'input',\n",
       " 'label',\n",
       " 'legend',\n",
       " 'li',\n",
       " 'link',\n",
       " 'main',\n",
       " 'meta',\n",
       " 'nav',\n",
       " 'noscript',\n",
       " 'p',\n",
       " 'path',\n",
       " 'picture',\n",
       " 'polygon',\n",
       " 'polyline',\n",
       " 'rect',\n",
       " 'script',\n",
       " 'section',\n",
       " 'source',\n",
       " 'span',\n",
       " 'strong',\n",
       " 'style',\n",
       " 'svg',\n",
       " 'time',\n",
       " 'title',\n",
       " 'ul'}"
      ]
     },
     "execution_count": 70,
     "metadata": {},
     "output_type": "execute_result"
    }
   ],
   "source": [
    "parsed_html = bs4.BeautifulSoup(html, \"html.parser\")\n",
    "parsed_tags = set([tag.name for tag in parsed_html.find_all(True)])\n",
    "parsed_tags"
   ]
  },
  {
   "cell_type": "code",
   "execution_count": 71,
   "id": "93513017",
   "metadata": {
    "scrolled": false
   },
   "outputs": [
    {
     "name": "stdout",
     "output_type": "stream",
     "text": [
      "<a href=\"https://www.marca.com/futbol/barcelona/2022/07/02/62c0093546163f91898b458a.html\" itemprop=\"url\" title=\"Al Barça le salen las cuentas\"> Al Barça le salen las cuentas\n",
      "</a>\n"
     ]
    },
    {
     "data": {
      "text/plain": [
       "[{'href': 'https://www.marca.com/futbol/barcelona/2022/07/02/62c0093546163f91898b458a.html',\n",
       "  'title': 'Al Barça le salen las cuentas',\n",
       "  'itemprop': 'url'},\n",
       " {'href': 'https://www.marca.com/futbol/premier-league/2022/07/01/62bee78746163f79648b457e.html',\n",
       "  'title': 'Conte rompe el mercado para fabricar un equipo temible',\n",
       "  'itemprop': 'url'},\n",
       " {'href': 'https://www.marca.com/futbol/mercado-fichajes/2022/07/02/62bfe033ae3f580020e300a3-directo.html',\n",
       "  'title': 'El Chelsea paga 52 millones al City',\n",
       "  'itemprop': 'url'},\n",
       " {'href': 'https://www.marca.com/futbol/primera-division/opinion/2022/07/02/62befa7de2704e8e028b459d.html',\n",
       "  'title': '\"Salvo el Madrid, nadie puede hacer un fichaje de 50 millones\"',\n",
       "  'itemprop': 'url'},\n",
       " {'href': 'https://www.marca.com/ciclismo/tour-francia/especial.html',\n",
       "  'title': \"El Tour de 'todos contra Pogacar'\",\n",
       "  'itemprop': 'url'},\n",
       " {'href': 'https://videos.marca.com/v/0_2sazyini-la-deportividad-de-alcaraz-que-asombra-a-wimbledon-aviso-que-el-punto-del-rival-era-bueno.html',\n",
       "  'title': 'La deportividad de Alcaraz que asombra a Wimbledon: avisó que el punto del rival era bueno',\n",
       "  'itemprop': 'url',\n",
       "  'class': ['flex-article__heading-link']},\n",
       " {'href': 'https://www.marca.com/uestudio/2022/06/29/62bc4a2046163f8b7a8b45ad.html',\n",
       "  'itemprop': 'url'},\n",
       " {'href': 'https://www.marca.com/futbol/real-madrid/2022/07/01/62bf49e846163ff2248b45d3.html',\n",
       "  'title': 'Contrato de megaestrella',\n",
       "  'itemprop': 'url'},\n",
       " {'href': 'https://www.marca.com/futbol/villarreal/2022/07/02/62c00c97ca47410d2a8b4574.html',\n",
       "  'title': 'Reina cumplirá los 40 en el Villarreal... cuando la Lazio le deje',\n",
       "  'itemprop': 'url'},\n",
       " {'href': 'https://videos.marca.com/v/0_9po8yxm6-desarmando-a-gabriel-jesus-el-big-data-que-manejo-el-madrid.html',\n",
       "  'title': \"Desarmando a Gabriel Jesús: el 'Big Data' que manejó el Madrid\",\n",
       "  'itemprop': 'url'},\n",
       " {'href': 'https://www.marca.com/futbol/album/2022/06/02/6298e328e2704e2d6d8b45ee.html',\n",
       "  'title': 'La foto de Lewandowski con un madridista, la pandilla de Messi...',\n",
       "  'itemprop': 'url'},\n",
       " {'href': 'https://www.marca.com/motor/formula1/gp-gran-bretana/2022/07/02/62bf451846163f83b48b460f.html',\n",
       "  'title': 'Ni Russell puede con Hamilton',\n",
       "  'itemprop': 'url'},\n",
       " {'href': 'https://www.marca.com/tiramillas/television/2022/07/01/62bf48cc22601d0c1a8b4575.html',\n",
       "  'title': 'Güiza rompe a llorar en directo al hablar con su hijo: \"Nosotros te abrimos las puertas de casa\"',\n",
       "  'itemprop': 'url'},\n",
       " {'href': 'https://www.marca.com/futbol/futbol-internacional/2022/07/02/62bf164fe2704e82bc8b45bb.html',\n",
       "  'title': 'El futuro es suyo: 10 cracks que reinaron en la Euro sub 19',\n",
       "  'itemprop': 'url'},\n",
       " {'href': 'https://www.marca.com/futbol/liga-francesa/2022/07/02/62c006c146163fd6708b45db.html',\n",
       "  'title': 'Galtier firmará por dos años con el PSG',\n",
       "  'itemprop': 'url'},\n",
       " {'href': 'https://www.marca.com/futbol/futbol-femenino/2022/07/02/62bffa7c22601dfd578b45ac.html',\n",
       "  'title': 'La seleccionadora irlandesa denuncia que fue violada por un directivo',\n",
       "  'itemprop': 'url'},\n",
       " {'href': 'https://www.marca.com/apuestas-deportivas.html',\n",
       "  'title': 'Descubre la mejor información de apuestas deportivas',\n",
       "  'itemprop': 'url'},\n",
       " {'href': 'https://www.marca.com/tiramillas/cine/2022/06/30/62bd678dca4741cf7c8b45df.html',\n",
       "  'itemprop': 'url'},\n",
       " {'href': 'https://videos.marca.com/v/0_lexzf8cz-nada-puede-con-carlos-alcaraz-en-wimbledon-su-tremendo-puntazo.html',\n",
       "  'title': 'Nada puede con Carlos Alcaraz en Wimbledon: su tremendo puntazo',\n",
       "  'itemprop': 'url',\n",
       "  'class': ['flex-article__heading-link']},\n",
       " {'href': 'https://www.marca.com/ciclismo/tour-francia/2022/07/02/62bf8bbfca474182068b45f7.html',\n",
       "  'title': 'Las etapas que se encargarán de dictar sentencia en este Tour',\n",
       "  'itemprop': 'url'},\n",
       " {'href': 'https://www.marca.com/apuestas-deportivas/pronosticos/2022/06/30/62bd43e8268e3e107c8b45ca.html',\n",
       "  'title': '¿Hay alguna plantilla en el mundo más cara que la del Real Madrid?',\n",
       "  'itemprop': 'url'},\n",
       " {'href': 'https://www.marca.com/regalos-promociones/2022/07/02/62bee92de2704e66828b45eb.html',\n",
       "  'title': \"Empiezan los chollos del Amazon Prime Day: Levi's al 50%, afeitadora Philips al 40%, Roomba al 40%...\",\n",
       "  'itemprop': 'url'},\n",
       " {'href': 'https://cuidateplus.marca.com/ejercicio-fisico/2022/07/01/ejercicios-recuperar-esguince-tobillo-179891.html?intcmp=MODNOT01',\n",
       "  'title': 'Ejercicios para recuperar un esguince de tobillo',\n",
       "  'itemprop': 'url'},\n",
       " {'href': 'https://www.marca.com/videojuegos/lo-mas-gaming/2022/06/30/62bd7ce8268e3e9e128b4589.html',\n",
       "  'title': 'Clasificatorio del Mundial de Globos de Ibai y Piqué: cuándo es, cómo ver online y  dónde se celebra',\n",
       "  'itemprop': 'url'},\n",
       " {'href': 'https://videos.marca.com/v/0_v9zgluej-imitar-a-kyrgios-es-imposible-y-lo-intento-seis-veces.html',\n",
       "  'title': 'Imitar a Kyrgios es imposible: y lo intentó... ¡seis veces!',\n",
       "  'itemprop': 'url'},\n",
       " {'href': 'https://www.marca.com/baloncesto/acb/2022/07/02/62c00c9fe2704eca7c8b4580.html',\n",
       "  'title': \"Marc jugará en la ACB y el Barça deberá 'pelear' por Kalinic\",\n",
       "  'itemprop': 'url'},\n",
       " {'href': 'https://www.marca.com/natacion/waterpolo/2022/07/01/62bf436aca4741764a8b45cd.html',\n",
       "  'title': 'La selección masculina repite final mundialista con Italia',\n",
       "  'itemprop': 'url'},\n",
       " {'href': 'https://www.marca.com/baloncesto/mundial/2022/07/01/62bedbece2704e7a488b458b.html',\n",
       "  'title': 'España tritura a Macedonia',\n",
       "  'itemprop': 'url'},\n",
       " {'href': 'https://www.marca.com/tiramillas/television/2022/07/02/62bfd89cca474156148b45b9.html',\n",
       "  'title': 'Agreden a una periodista de \\'Ya es mediodía\\': \"¡Te parto la cara!\"... y la Guardia Civil interviene',\n",
       "  'itemprop': 'url'},\n",
       " {'href': 'https://www.marca.com/tiramillas/lujo/album/2022/03/01/621dcd5b46163f053b8b4637.html',\n",
       "  'title': 'María, la hija influencer de Guardiola, cambia de look y...: \"¡Ese rubio en ti es fuego...!\"',\n",
       "  'itemprop': 'url'},\n",
       " {'href': 'https://www.marca.com/tiramillas/television/2022/07/01/62be9ed5ca4741850d8b45db.html',\n",
       "  'title': 'Carlota Boza aclara los rumores sobre su vida privada: \"Me he liado con algunos famosos\"',\n",
       "  'itemprop': 'url'},\n",
       " {'href': 'https://www.marca.com/tiramillas/television/2022/07/01/62bf162e22601d5f6a8b45ba.html',\n",
       "  'title': 'La dura confesión de Fernando Tejero sobre su homosexualidad: \"En mi familia me llamaban...\"',\n",
       "  'itemprop': 'url'},\n",
       " {'href': 'https://videos.marca.com/v/0_f7x8cvhd-el-lio-de-casillas-a-albiol-para-ensenar-su-casa-a-javier-bardem-y-penelope-cruz.html?uetv_pl=futbol&cid=MARCATV001&s_kw=titular',\n",
       "  'title': 'El lío de Casillas a Albiol para enseñar su casa a... ¡Javier Bardem y Penélope Cruz!',\n",
       "  'itemprop': 'url'},\n",
       " {'href': 'https://videos.marca.com/v/0_g7o4jmiw-el-excule-julio-salinas-sacando-los-colores-a-un-presentador-en-un-programa-barcelonista.html?uetv_pl=futbol&cid=MARCATV001&s_kw=titular',\n",
       "  'title': 'El exculé Julio Salinas sacando los colores a un presentador en un programa barcelonista',\n",
       "  'itemprop': 'url'},\n",
       " {'href': 'https://videos.marca.com/v/0_6rjy7b41-leccion-1-en-tenis-nunca-celebres-antes-de-tiempo-o-se-te-quedara-cara-tonto.html?uetv_pl=otros-deportes&cid=MARCATV001&s_kw=titular',\n",
       "  'title': 'Lección 1 en tenis: Nunca celebres antes de tiempo o se te quedara cara tonto',\n",
       "  'itemprop': 'url'},\n",
       " {'href': 'https://videos.marca.com/v/0_hrvlqid1-las-comparaciones-son-odiosas-pero-emociona-ver-a-djokovic-entrenando-con-su-hijo.html',\n",
       "  'title': 'Las comparaciones son odiosas pero emociona ver a Djokovic entrenando con su hijo',\n",
       "  'itemprop': 'url'},\n",
       " {'href': 'https://videos.marca.com/v/0_jpvjh6sl-si-no-puedes-ganar-un-110-vallas-corriendo-al-menos-intentalo-volando.html',\n",
       "  'title': 'Si no puedes ganar un 110 vallas corriendo, al menos inténtalo... ¡Volando!',\n",
       "  'itemprop': 'url'},\n",
       " {'href': 'https://www.marca.com/coches-y-motos/coches/2022/07/01/62bee060ca47413a288b45a8.html',\n",
       "  'title': 'Este es el coche que más se compran los españoles en 2022',\n",
       "  'itemprop': 'url'},\n",
       " {'href': 'https://www.marca.com/futbol/album/2022/05/13/627e557922601da7318b4599.html',\n",
       "  'title': 'El Sevilla está de estreno',\n",
       "  'itemprop': 'url'}]"
      ]
     },
     "execution_count": 71,
     "metadata": {},
     "output_type": "execute_result"
    }
   ],
   "source": [
    "element = parsed_html.find_all(\"a\", {\"itemprop\": \"url\"})\n",
    "len(element)\n",
    "print(element[0])\n",
    "element[0]['href']\n",
    "links = [tag.attrs for tag in element]\n",
    "links"
   ]
  },
  {
   "cell_type": "code",
   "execution_count": 72,
   "id": "241dcf40",
   "metadata": {},
   "outputs": [
    {
     "data": {
      "text/html": [
       "<div>\n",
       "<style scoped>\n",
       "    .dataframe tbody tr th:only-of-type {\n",
       "        vertical-align: middle;\n",
       "    }\n",
       "\n",
       "    .dataframe tbody tr th {\n",
       "        vertical-align: top;\n",
       "    }\n",
       "\n",
       "    .dataframe thead th {\n",
       "        text-align: right;\n",
       "    }\n",
       "</style>\n",
       "<table border=\"1\" class=\"dataframe\">\n",
       "  <thead>\n",
       "    <tr style=\"text-align: right;\">\n",
       "      <th></th>\n",
       "      <th>title</th>\n",
       "      <th>href</th>\n",
       "      <th>itemprop</th>\n",
       "    </tr>\n",
       "  </thead>\n",
       "  <tbody>\n",
       "    <tr>\n",
       "      <th>0</th>\n",
       "      <td>Al Barça le salen las cuentas</td>\n",
       "      <td>https://www.marca.com/futbol/barcelona/2022/07...</td>\n",
       "      <td>url</td>\n",
       "    </tr>\n",
       "    <tr>\n",
       "      <th>1</th>\n",
       "      <td>Conte rompe el mercado para fabricar un equipo...</td>\n",
       "      <td>https://www.marca.com/futbol/premier-league/20...</td>\n",
       "      <td>url</td>\n",
       "    </tr>\n",
       "    <tr>\n",
       "      <th>2</th>\n",
       "      <td>El Chelsea paga 52 millones al City</td>\n",
       "      <td>https://www.marca.com/futbol/mercado-fichajes/...</td>\n",
       "      <td>url</td>\n",
       "    </tr>\n",
       "    <tr>\n",
       "      <th>3</th>\n",
       "      <td>\"Salvo el Madrid, nadie puede hacer un fichaje...</td>\n",
       "      <td>https://www.marca.com/futbol/primera-division/...</td>\n",
       "      <td>url</td>\n",
       "    </tr>\n",
       "    <tr>\n",
       "      <th>4</th>\n",
       "      <td>El Tour de 'todos contra Pogacar'</td>\n",
       "      <td>https://www.marca.com/ciclismo/tour-francia/es...</td>\n",
       "      <td>url</td>\n",
       "    </tr>\n",
       "    <tr>\n",
       "      <th>5</th>\n",
       "      <td>La deportividad de Alcaraz que asombra a Wimbl...</td>\n",
       "      <td>https://videos.marca.com/v/0_2sazyini-la-depor...</td>\n",
       "      <td>url</td>\n",
       "    </tr>\n",
       "    <tr>\n",
       "      <th>6</th>\n",
       "      <td>NaN</td>\n",
       "      <td>https://www.marca.com/uestudio/2022/06/29/62bc...</td>\n",
       "      <td>url</td>\n",
       "    </tr>\n",
       "    <tr>\n",
       "      <th>7</th>\n",
       "      <td>Contrato de megaestrella</td>\n",
       "      <td>https://www.marca.com/futbol/real-madrid/2022/...</td>\n",
       "      <td>url</td>\n",
       "    </tr>\n",
       "    <tr>\n",
       "      <th>8</th>\n",
       "      <td>Reina cumplirá los 40 en el Villarreal... cuan...</td>\n",
       "      <td>https://www.marca.com/futbol/villarreal/2022/0...</td>\n",
       "      <td>url</td>\n",
       "    </tr>\n",
       "    <tr>\n",
       "      <th>9</th>\n",
       "      <td>Desarmando a Gabriel Jesús: el 'Big Data' que ...</td>\n",
       "      <td>https://videos.marca.com/v/0_9po8yxm6-desarman...</td>\n",
       "      <td>url</td>\n",
       "    </tr>\n",
       "    <tr>\n",
       "      <th>10</th>\n",
       "      <td>La foto de Lewandowski con un madridista, la p...</td>\n",
       "      <td>https://www.marca.com/futbol/album/2022/06/02/...</td>\n",
       "      <td>url</td>\n",
       "    </tr>\n",
       "    <tr>\n",
       "      <th>11</th>\n",
       "      <td>Ni Russell puede con Hamilton</td>\n",
       "      <td>https://www.marca.com/motor/formula1/gp-gran-b...</td>\n",
       "      <td>url</td>\n",
       "    </tr>\n",
       "    <tr>\n",
       "      <th>12</th>\n",
       "      <td>Güiza rompe a llorar en directo al hablar con ...</td>\n",
       "      <td>https://www.marca.com/tiramillas/television/20...</td>\n",
       "      <td>url</td>\n",
       "    </tr>\n",
       "    <tr>\n",
       "      <th>13</th>\n",
       "      <td>El futuro es suyo: 10 cracks que reinaron en l...</td>\n",
       "      <td>https://www.marca.com/futbol/futbol-internacio...</td>\n",
       "      <td>url</td>\n",
       "    </tr>\n",
       "    <tr>\n",
       "      <th>14</th>\n",
       "      <td>Galtier firmará por dos años con el PSG</td>\n",
       "      <td>https://www.marca.com/futbol/liga-francesa/202...</td>\n",
       "      <td>url</td>\n",
       "    </tr>\n",
       "    <tr>\n",
       "      <th>15</th>\n",
       "      <td>La seleccionadora irlandesa denuncia que fue v...</td>\n",
       "      <td>https://www.marca.com/futbol/futbol-femenino/2...</td>\n",
       "      <td>url</td>\n",
       "    </tr>\n",
       "    <tr>\n",
       "      <th>16</th>\n",
       "      <td>Descubre la mejor información de apuestas depo...</td>\n",
       "      <td>https://www.marca.com/apuestas-deportivas.html</td>\n",
       "      <td>url</td>\n",
       "    </tr>\n",
       "    <tr>\n",
       "      <th>17</th>\n",
       "      <td>NaN</td>\n",
       "      <td>https://www.marca.com/tiramillas/cine/2022/06/...</td>\n",
       "      <td>url</td>\n",
       "    </tr>\n",
       "    <tr>\n",
       "      <th>18</th>\n",
       "      <td>Nada puede con Carlos Alcaraz en Wimbledon: su...</td>\n",
       "      <td>https://videos.marca.com/v/0_lexzf8cz-nada-pue...</td>\n",
       "      <td>url</td>\n",
       "    </tr>\n",
       "    <tr>\n",
       "      <th>19</th>\n",
       "      <td>Las etapas que se encargarán de dictar sentenc...</td>\n",
       "      <td>https://www.marca.com/ciclismo/tour-francia/20...</td>\n",
       "      <td>url</td>\n",
       "    </tr>\n",
       "    <tr>\n",
       "      <th>20</th>\n",
       "      <td>¿Hay alguna plantilla en el mundo más cara que...</td>\n",
       "      <td>https://www.marca.com/apuestas-deportivas/pron...</td>\n",
       "      <td>url</td>\n",
       "    </tr>\n",
       "    <tr>\n",
       "      <th>21</th>\n",
       "      <td>Empiezan los chollos del Amazon Prime Day: Lev...</td>\n",
       "      <td>https://www.marca.com/regalos-promociones/2022...</td>\n",
       "      <td>url</td>\n",
       "    </tr>\n",
       "    <tr>\n",
       "      <th>22</th>\n",
       "      <td>Ejercicios para recuperar un esguince de tobillo</td>\n",
       "      <td>https://cuidateplus.marca.com/ejercicio-fisico...</td>\n",
       "      <td>url</td>\n",
       "    </tr>\n",
       "    <tr>\n",
       "      <th>23</th>\n",
       "      <td>Clasificatorio del Mundial de Globos de Ibai y...</td>\n",
       "      <td>https://www.marca.com/videojuegos/lo-mas-gamin...</td>\n",
       "      <td>url</td>\n",
       "    </tr>\n",
       "    <tr>\n",
       "      <th>24</th>\n",
       "      <td>Imitar a Kyrgios es imposible: y lo intentó......</td>\n",
       "      <td>https://videos.marca.com/v/0_v9zgluej-imitar-a...</td>\n",
       "      <td>url</td>\n",
       "    </tr>\n",
       "    <tr>\n",
       "      <th>25</th>\n",
       "      <td>Marc jugará en la ACB y el Barça deberá 'pelea...</td>\n",
       "      <td>https://www.marca.com/baloncesto/acb/2022/07/0...</td>\n",
       "      <td>url</td>\n",
       "    </tr>\n",
       "    <tr>\n",
       "      <th>26</th>\n",
       "      <td>La selección masculina repite final mundialist...</td>\n",
       "      <td>https://www.marca.com/natacion/waterpolo/2022/...</td>\n",
       "      <td>url</td>\n",
       "    </tr>\n",
       "    <tr>\n",
       "      <th>27</th>\n",
       "      <td>España tritura a Macedonia</td>\n",
       "      <td>https://www.marca.com/baloncesto/mundial/2022/...</td>\n",
       "      <td>url</td>\n",
       "    </tr>\n",
       "    <tr>\n",
       "      <th>28</th>\n",
       "      <td>Agreden a una periodista de 'Ya es mediodía': ...</td>\n",
       "      <td>https://www.marca.com/tiramillas/television/20...</td>\n",
       "      <td>url</td>\n",
       "    </tr>\n",
       "    <tr>\n",
       "      <th>29</th>\n",
       "      <td>María, la hija influencer de Guardiola, cambia...</td>\n",
       "      <td>https://www.marca.com/tiramillas/lujo/album/20...</td>\n",
       "      <td>url</td>\n",
       "    </tr>\n",
       "    <tr>\n",
       "      <th>30</th>\n",
       "      <td>Carlota Boza aclara los rumores sobre su vida ...</td>\n",
       "      <td>https://www.marca.com/tiramillas/television/20...</td>\n",
       "      <td>url</td>\n",
       "    </tr>\n",
       "    <tr>\n",
       "      <th>31</th>\n",
       "      <td>La dura confesión de Fernando Tejero sobre su ...</td>\n",
       "      <td>https://www.marca.com/tiramillas/television/20...</td>\n",
       "      <td>url</td>\n",
       "    </tr>\n",
       "    <tr>\n",
       "      <th>32</th>\n",
       "      <td>El lío de Casillas a Albiol para enseñar su ca...</td>\n",
       "      <td>https://videos.marca.com/v/0_f7x8cvhd-el-lio-d...</td>\n",
       "      <td>url</td>\n",
       "    </tr>\n",
       "    <tr>\n",
       "      <th>33</th>\n",
       "      <td>El exculé Julio Salinas sacando los colores a ...</td>\n",
       "      <td>https://videos.marca.com/v/0_g7o4jmiw-el-excul...</td>\n",
       "      <td>url</td>\n",
       "    </tr>\n",
       "    <tr>\n",
       "      <th>34</th>\n",
       "      <td>Lección 1 en tenis: Nunca celebres antes de ti...</td>\n",
       "      <td>https://videos.marca.com/v/0_6rjy7b41-leccion-...</td>\n",
       "      <td>url</td>\n",
       "    </tr>\n",
       "    <tr>\n",
       "      <th>35</th>\n",
       "      <td>Las comparaciones son odiosas pero emociona ve...</td>\n",
       "      <td>https://videos.marca.com/v/0_hrvlqid1-las-comp...</td>\n",
       "      <td>url</td>\n",
       "    </tr>\n",
       "    <tr>\n",
       "      <th>36</th>\n",
       "      <td>Si no puedes ganar un 110 vallas corriendo, al...</td>\n",
       "      <td>https://videos.marca.com/v/0_jpvjh6sl-si-no-pu...</td>\n",
       "      <td>url</td>\n",
       "    </tr>\n",
       "    <tr>\n",
       "      <th>37</th>\n",
       "      <td>Este es el coche que más se compran los españo...</td>\n",
       "      <td>https://www.marca.com/coches-y-motos/coches/20...</td>\n",
       "      <td>url</td>\n",
       "    </tr>\n",
       "    <tr>\n",
       "      <th>38</th>\n",
       "      <td>El Sevilla está de estreno</td>\n",
       "      <td>https://www.marca.com/futbol/album/2022/05/13/...</td>\n",
       "      <td>url</td>\n",
       "    </tr>\n",
       "  </tbody>\n",
       "</table>\n",
       "</div>"
      ],
      "text/plain": [
       "                                                title  \\\n",
       "0                       Al Barça le salen las cuentas   \n",
       "1   Conte rompe el mercado para fabricar un equipo...   \n",
       "2                 El Chelsea paga 52 millones al City   \n",
       "3   \"Salvo el Madrid, nadie puede hacer un fichaje...   \n",
       "4                   El Tour de 'todos contra Pogacar'   \n",
       "5   La deportividad de Alcaraz que asombra a Wimbl...   \n",
       "6                                                 NaN   \n",
       "7                            Contrato de megaestrella   \n",
       "8   Reina cumplirá los 40 en el Villarreal... cuan...   \n",
       "9   Desarmando a Gabriel Jesús: el 'Big Data' que ...   \n",
       "10  La foto de Lewandowski con un madridista, la p...   \n",
       "11                      Ni Russell puede con Hamilton   \n",
       "12  Güiza rompe a llorar en directo al hablar con ...   \n",
       "13  El futuro es suyo: 10 cracks que reinaron en l...   \n",
       "14            Galtier firmará por dos años con el PSG   \n",
       "15  La seleccionadora irlandesa denuncia que fue v...   \n",
       "16  Descubre la mejor información de apuestas depo...   \n",
       "17                                                NaN   \n",
       "18  Nada puede con Carlos Alcaraz en Wimbledon: su...   \n",
       "19  Las etapas que se encargarán de dictar sentenc...   \n",
       "20  ¿Hay alguna plantilla en el mundo más cara que...   \n",
       "21  Empiezan los chollos del Amazon Prime Day: Lev...   \n",
       "22   Ejercicios para recuperar un esguince de tobillo   \n",
       "23  Clasificatorio del Mundial de Globos de Ibai y...   \n",
       "24  Imitar a Kyrgios es imposible: y lo intentó......   \n",
       "25  Marc jugará en la ACB y el Barça deberá 'pelea...   \n",
       "26  La selección masculina repite final mundialist...   \n",
       "27                         España tritura a Macedonia   \n",
       "28  Agreden a una periodista de 'Ya es mediodía': ...   \n",
       "29  María, la hija influencer de Guardiola, cambia...   \n",
       "30  Carlota Boza aclara los rumores sobre su vida ...   \n",
       "31  La dura confesión de Fernando Tejero sobre su ...   \n",
       "32  El lío de Casillas a Albiol para enseñar su ca...   \n",
       "33  El exculé Julio Salinas sacando los colores a ...   \n",
       "34  Lección 1 en tenis: Nunca celebres antes de ti...   \n",
       "35  Las comparaciones son odiosas pero emociona ve...   \n",
       "36  Si no puedes ganar un 110 vallas corriendo, al...   \n",
       "37  Este es el coche que más se compran los españo...   \n",
       "38                         El Sevilla está de estreno   \n",
       "\n",
       "                                                 href itemprop  \n",
       "0   https://www.marca.com/futbol/barcelona/2022/07...      url  \n",
       "1   https://www.marca.com/futbol/premier-league/20...      url  \n",
       "2   https://www.marca.com/futbol/mercado-fichajes/...      url  \n",
       "3   https://www.marca.com/futbol/primera-division/...      url  \n",
       "4   https://www.marca.com/ciclismo/tour-francia/es...      url  \n",
       "5   https://videos.marca.com/v/0_2sazyini-la-depor...      url  \n",
       "6   https://www.marca.com/uestudio/2022/06/29/62bc...      url  \n",
       "7   https://www.marca.com/futbol/real-madrid/2022/...      url  \n",
       "8   https://www.marca.com/futbol/villarreal/2022/0...      url  \n",
       "9   https://videos.marca.com/v/0_9po8yxm6-desarman...      url  \n",
       "10  https://www.marca.com/futbol/album/2022/06/02/...      url  \n",
       "11  https://www.marca.com/motor/formula1/gp-gran-b...      url  \n",
       "12  https://www.marca.com/tiramillas/television/20...      url  \n",
       "13  https://www.marca.com/futbol/futbol-internacio...      url  \n",
       "14  https://www.marca.com/futbol/liga-francesa/202...      url  \n",
       "15  https://www.marca.com/futbol/futbol-femenino/2...      url  \n",
       "16     https://www.marca.com/apuestas-deportivas.html      url  \n",
       "17  https://www.marca.com/tiramillas/cine/2022/06/...      url  \n",
       "18  https://videos.marca.com/v/0_lexzf8cz-nada-pue...      url  \n",
       "19  https://www.marca.com/ciclismo/tour-francia/20...      url  \n",
       "20  https://www.marca.com/apuestas-deportivas/pron...      url  \n",
       "21  https://www.marca.com/regalos-promociones/2022...      url  \n",
       "22  https://cuidateplus.marca.com/ejercicio-fisico...      url  \n",
       "23  https://www.marca.com/videojuegos/lo-mas-gamin...      url  \n",
       "24  https://videos.marca.com/v/0_v9zgluej-imitar-a...      url  \n",
       "25  https://www.marca.com/baloncesto/acb/2022/07/0...      url  \n",
       "26  https://www.marca.com/natacion/waterpolo/2022/...      url  \n",
       "27  https://www.marca.com/baloncesto/mundial/2022/...      url  \n",
       "28  https://www.marca.com/tiramillas/television/20...      url  \n",
       "29  https://www.marca.com/tiramillas/lujo/album/20...      url  \n",
       "30  https://www.marca.com/tiramillas/television/20...      url  \n",
       "31  https://www.marca.com/tiramillas/television/20...      url  \n",
       "32  https://videos.marca.com/v/0_f7x8cvhd-el-lio-d...      url  \n",
       "33  https://videos.marca.com/v/0_g7o4jmiw-el-excul...      url  \n",
       "34  https://videos.marca.com/v/0_6rjy7b41-leccion-...      url  \n",
       "35  https://videos.marca.com/v/0_hrvlqid1-las-comp...      url  \n",
       "36  https://videos.marca.com/v/0_jpvjh6sl-si-no-pu...      url  \n",
       "37  https://www.marca.com/coches-y-motos/coches/20...      url  \n",
       "38  https://www.marca.com/futbol/album/2022/05/13/...      url  "
      ]
     },
     "execution_count": 72,
     "metadata": {},
     "output_type": "execute_result"
    }
   ],
   "source": [
    "# Of course, Pandas!!!\n",
    "\n",
    "df = pd.DataFrame(links, columns=['title', 'href', 'itemprop'])\n",
    "df"
   ]
  },
  {
   "cell_type": "code",
   "execution_count": 116,
   "id": "3625ba8e",
   "metadata": {},
   "outputs": [],
   "source": [
    "url = 'https://toogoodtogo.es/es/blog'"
   ]
  },
  {
   "cell_type": "code",
   "execution_count": 117,
   "id": "8ea5e1f9",
   "metadata": {},
   "outputs": [],
   "source": [
    "response = requests.get(url)\n",
    "html = response.content"
   ]
  },
  {
   "cell_type": "code",
   "execution_count": 118,
   "id": "7c04dc10",
   "metadata": {},
   "outputs": [],
   "source": [
    "parsed_html = bs4.BeautifulSoup(html, \"html.parser\")"
   ]
  },
  {
   "cell_type": "code",
   "execution_count": 119,
   "id": "20c3fbd9",
   "metadata": {},
   "outputs": [
    {
     "data": {
      "text/plain": [
       "['head',\n",
       " 'span',\n",
       " 'script',\n",
       " 'img',\n",
       " 'style',\n",
       " 'li',\n",
       " 'div',\n",
       " 'title',\n",
       " 'base',\n",
       " 'section',\n",
       " 'a',\n",
       " 'fieldset',\n",
       " 'link',\n",
       " 'label',\n",
       " 'ul',\n",
       " 'main',\n",
       " 'option',\n",
       " 'p',\n",
       " 'h3',\n",
       " 'h1',\n",
       " 'input',\n",
       " 'form',\n",
       " 'h6',\n",
       " 'select',\n",
       " 'html',\n",
       " 'footer',\n",
       " 'h2',\n",
       " 'iframe',\n",
       " 'meta',\n",
       " 'h5',\n",
       " 'button',\n",
       " 'header',\n",
       " 'body',\n",
       " 'noscript',\n",
       " 'small']"
      ]
     },
     "execution_count": 119,
     "metadata": {},
     "output_type": "execute_result"
    }
   ],
   "source": [
    "parsed_tags = []\n",
    "for tag in parsed_html.find_all(True):\n",
    "    parsed_tags.append(tag.name)\n",
    "list(set(parsed_tags))"
   ]
  },
  {
   "cell_type": "code",
   "execution_count": 122,
   "id": "ed39bb7f",
   "metadata": {
    "scrolled": false
   },
   "outputs": [
    {
     "data": {
      "text/plain": [
       "10"
      ]
     },
     "execution_count": 122,
     "metadata": {},
     "output_type": "execute_result"
    }
   ],
   "source": [
    "elements = parsed_html.find_all(\"a\", {'class':'blog-post-link'})\n",
    "len(elements)"
   ]
  },
  {
   "cell_type": "code",
   "execution_count": 123,
   "id": "2aa6945f",
   "metadata": {},
   "outputs": [
    {
     "data": {
      "text/plain": [
       "{'href': '/es/blog/ww-junio', 'class': ['blog-post-link']}"
      ]
     },
     "execution_count": 123,
     "metadata": {},
     "output_type": "execute_result"
    }
   ],
   "source": [
    "elements[0].attrs"
   ]
  },
  {
   "cell_type": "code",
   "execution_count": 124,
   "id": "4f670a9d",
   "metadata": {},
   "outputs": [
    {
     "data": {
      "text/plain": [
       "['/es/blog/ww-junio',\n",
       " '/es/blog/fruta-temporada',\n",
       " '/es/blog/sorteo-restaurante-coque',\n",
       " '/es/blog/chefs-contra-el-desperdicio',\n",
       " '/es/blog/pepa-munoz',\n",
       " '/es/blog/joanna-artieda',\n",
       " '/es/blog/mario-sandoval',\n",
       " '/es/blog/victor-y-mar',\n",
       " '/es/blog/tonino-valiente',\n",
       " '/es/blog/verse']"
      ]
     },
     "execution_count": 124,
     "metadata": {},
     "output_type": "execute_result"
    }
   ],
   "source": [
    "url_list = []\n",
    "for e in elements:\n",
    "    url_list.append(e['href'])\n",
    "url_list"
   ]
  },
  {
   "cell_type": "code",
   "execution_count": 125,
   "id": "37737285",
   "metadata": {},
   "outputs": [],
   "source": [
    "url_post = 'https://toogoodtogo.es/es/blog/ww-junio'\n",
    "response = requests.get(url_post)\n",
    "html = response.content\n",
    "parsed_html = bs4.BeautifulSoup(html, \"html.parser\")"
   ]
  },
  {
   "cell_type": "code",
   "execution_count": 127,
   "id": "a6102b59",
   "metadata": {},
   "outputs": [
    {
     "data": {
      "text/plain": [
       "'#WasteWarriorDelMes de Junio 🍕'"
      ]
     },
     "execution_count": 127,
     "metadata": {},
     "output_type": "execute_result"
    }
   ],
   "source": [
    "elements = parsed_html.find_all(\"h1\")\n",
    "elements[0].string"
   ]
  },
  {
   "cell_type": "code",
   "execution_count": 143,
   "id": "bd7b0a92",
   "metadata": {
    "scrolled": false
   },
   "outputs": [],
   "source": [
    "elements = parsed_html.find_all(\"span\", {})"
   ]
  },
  {
   "cell_type": "code",
   "execution_count": 144,
   "id": "2c462e63",
   "metadata": {},
   "outputs": [
    {
     "data": {
      "text/plain": [
       "['Queremos premiar tu esfuerzo salvando comida con nosotros con este sorteo delicioso mensual😋 Cada vez más waste warriors participáis salvando comida, por eso, ¡hemos cambiado las reglas del #WasteWarriorDelMes!',\n",
       " 'La persona ganadora del sorteo será elegida de manera aleatoria de entre todos los comentarios del post que anuncia el sorteo.\\xa0',\n",
       " None]"
      ]
     },
     "execution_count": 144,
     "metadata": {},
     "output_type": "execute_result"
    }
   ],
   "source": [
    "text_list = []\n",
    "for element in elements:\n",
    "    if element.attrs == {}:\n",
    "        text_list.append(element.string)\n",
    "text_list"
   ]
  },
  {
   "cell_type": "code",
   "execution_count": 146,
   "id": "21dc4656",
   "metadata": {},
   "outputs": [
    {
     "data": {
      "text/plain": [
       "10"
      ]
     },
     "execution_count": 146,
     "metadata": {},
     "output_type": "execute_result"
    }
   ],
   "source": [
    "blog_content = []\n",
    "for u in url_list:\n",
    "    url_post = 'https://toogoodtogo.es'+u\n",
    "    html = requests.get(url_post).content\n",
    "    blog_content.append(html)\n",
    "    \n",
    "len(blog_content)"
   ]
  },
  {
   "cell_type": "markdown",
   "id": "3690c101",
   "metadata": {},
   "source": [
    "---"
   ]
  },
  {
   "cell_type": "markdown",
   "id": "a5c02de9",
   "metadata": {},
   "source": [
    "__More info:__\n",
    "\n",
    "- An example for creating a pipeline where the Acquisition part involves REST API and Web Scraping [link](https://towardsdatascience.com/data-engineering-create-your-own-dataset-9c4d267eb838)\n",
    "\n",
    "- If you have dynamic content, you should consider using [Selenium](https://selenium-python.readthedocs.io/)\n",
    "\n",
    "- [What would happen if you tried to scrape Idealista?](https://www.idealista.com/ayuda/articulos/legal-statement/?lang=en#:~:text=Specifically%2C%20it%20is,prior%20written%20permission.)"
   ]
  }
 ],
 "metadata": {
  "kernelspec": {
   "display_name": "Python 3 (ipykernel)",
   "language": "python",
   "name": "python3"
  },
  "language_info": {
   "codemirror_mode": {
    "name": "ipython",
    "version": 3
   },
   "file_extension": ".py",
   "mimetype": "text/x-python",
   "name": "python",
   "nbconvert_exporter": "python",
   "pygments_lexer": "ipython3",
   "version": "3.9.12"
  }
 },
 "nbformat": 4,
 "nbformat_minor": 5
}
